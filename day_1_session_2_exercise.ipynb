{
  "nbformat": 4,
  "nbformat_minor": 0,
  "metadata": {
    "colab": {
      "name": "day_1_session_2_exercise.ipynb",
      "provenance": [],
      "authorship_tag": "ABX9TyPEjPhMrBuC1IA0zNVIYvPT",
      "include_colab_link": true
    },
    "kernelspec": {
      "name": "python3",
      "display_name": "Python 3"
    }
  },
  "cells": [
    {
      "cell_type": "markdown",
      "metadata": {
        "id": "view-in-github",
        "colab_type": "text"
      },
      "source": [
        "<a href=\"https://colab.research.google.com/github/lavanyamurthi/python-workshop/blob/master/day_1_session_2_exercise.ipynb\" target=\"_parent\"><img src=\"https://colab.research.google.com/assets/colab-badge.svg\" alt=\"Open In Colab\"/></a>"
      ]
    },
    {
      "cell_type": "code",
      "metadata": {
        "id": "SkT6lawMuJdO",
        "colab_type": "code",
        "colab": {}
      },
      "source": [
        ""
      ],
      "execution_count": null,
      "outputs": []
    },
    {
      "cell_type": "markdown",
      "metadata": {
        "id": "SP5aRJapuTRq",
        "colab_type": "text"
      },
      "source": [
        "#1 Write a program to print the triangle \n",
        "i/p  4\n",
        "\n",
        "1\n",
        "2    3\n",
        "3    4   5\n",
        "4    5   6   7\n"
      ]
    },
    {
      "cell_type": "markdown",
      "metadata": {
        "id": "HQvLj-kkuKfc",
        "colab_type": "text"
      },
      "source": [
        ""
      ]
    },
    {
      "cell_type": "code",
      "metadata": {
        "id": "iU0S0loouNV5",
        "colab_type": "code",
        "colab": {
          "base_uri": "https://localhost:8080/",
          "height": 255
        },
        "outputId": "cb889ac8-7d44-41a8-8608-e71339d269d1"
      },
      "source": [
        "n = int(input('Enter the number'))\n",
        "for i in range(n+1):\n",
        "    for j in range(i):\n",
        "        k=i+j\n",
        "        print (k , end=\" \")\n",
        "    print('')"
      ],
      "execution_count": 1,
      "outputs": [
        {
          "output_type": "stream",
          "text": [
            "Enter the number12\n",
            "\n",
            "1 \n",
            "2 3 \n",
            "3 4 5 \n",
            "4 5 6 7 \n",
            "5 6 7 8 9 \n",
            "6 7 8 9 10 11 \n",
            "7 8 9 10 11 12 13 \n",
            "8 9 10 11 12 13 14 15 \n",
            "9 10 11 12 13 14 15 16 17 \n",
            "10 11 12 13 14 15 16 17 18 19 \n",
            "11 12 13 14 15 16 17 18 19 20 21 \n",
            "12 13 14 15 16 17 18 19 20 21 22 23 \n"
          ],
          "name": "stdout"
        }
      ]
    },
    {
      "cell_type": "markdown",
      "metadata": {
        "id": "TrTFFkuiuc4D",
        "colab_type": "text"
      },
      "source": [
        "#2 Enter number 4\n",
        "\n",
        "*\n",
        "* *\n",
        "* * *\n",
        "* * * *\n",
        "\n"
      ]
    },
    {
      "cell_type": "code",
      "metadata": {
        "id": "B1BznuLcuhR6",
        "colab_type": "code",
        "colab": {
          "base_uri": "https://localhost:8080/",
          "height": 136
        },
        "outputId": "a63c3d20-e8c8-4c3d-df6e-f07ca98c4c21"
      },
      "source": [
        "n = int(input('Enter the number'))\n",
        "for i in range(n+1):\n",
        "    for j in range(i):\n",
        "        print ('*' , end=\"\")\n",
        "    print('')"
      ],
      "execution_count": 3,
      "outputs": [
        {
          "output_type": "stream",
          "text": [
            "Enter the number5\n",
            "\n",
            "*\n",
            "**\n",
            "***\n",
            "****\n",
            "*****\n"
          ],
          "name": "stdout"
        }
      ]
    },
    {
      "cell_type": "markdown",
      "metadata": {
        "id": "s36vEi2Vu1Pn",
        "colab_type": "text"
      },
      "source": [
        "#Enter number 5\n",
        "\n",
        "5\n",
        "4 5\n",
        "3 4 5\n",
        "2 3 4 5\n",
        "1 2 3 4 5\n"
      ]
    },
    {
      "cell_type": "code",
      "metadata": {
        "id": "XOopHr0au9bI",
        "colab_type": "code",
        "colab": {
          "base_uri": "https://localhost:8080/",
          "height": 119
        },
        "outputId": "d6780d3a-a4c0-4c74-de6f-c48a3ba2819d"
      },
      "source": [
        "n=5;\n",
        "for i in range(n+1):\n",
        "    k=n-i+1\n",
        "    for j in range(i):\n",
        "        print (k, end=\"\")\n",
        "        k=k+1\n",
        "    print('')"
      ],
      "execution_count": 4,
      "outputs": [
        {
          "output_type": "stream",
          "text": [
            "\n",
            "5\n",
            "45\n",
            "345\n",
            "2345\n",
            "12345\n"
          ],
          "name": "stdout"
        }
      ]
    },
    {
      "cell_type": "markdown",
      "metadata": {
        "id": "Vs92Vmm7vFXu",
        "colab_type": "text"
      },
      "source": [
        "#4  Enter number 5\n",
        "\n",
        "5 4 3 2 1\n",
        "4 3 2 1\n",
        "3 2 1\n",
        "2 1\n",
        "1\n"
      ]
    },
    {
      "cell_type": "code",
      "metadata": {
        "id": "rGjFWT8IvJCo",
        "colab_type": "code",
        "colab": {
          "base_uri": "https://localhost:8080/",
          "height": 136
        },
        "outputId": "a4c5c692-f254-4765-cdd4-56fab451689f"
      },
      "source": [
        "n=5;\n",
        "for i in range(n+1):\n",
        "    k=n-i\n",
        "    for j in range(n-i):\n",
        "        print (k, end=\"\")\n",
        "        k=k-1\n",
        "    print('')\n",
        "54321"
      ],
      "execution_count": 5,
      "outputs": [
        {
          "output_type": "stream",
          "text": [
            "54321\n",
            "4321\n",
            "321\n",
            "21\n",
            "1\n",
            "\n"
          ],
          "name": "stdout"
        },
        {
          "output_type": "execute_result",
          "data": {
            "text/plain": [
              "54321"
            ]
          },
          "metadata": {
            "tags": []
          },
          "execution_count": 5
        }
      ]
    },
    {
      "cell_type": "markdown",
      "metadata": {
        "id": "f4sd9-xVvYfp",
        "colab_type": "text"
      },
      "source": [
        "#Enter number 4\n",
        "\n",
        "1 2 3 4\n",
        "2 3 4\n",
        "3 4\n",
        "4\n",
        "3 4\n",
        "2 3 4\n",
        "1 2 3 4\n"
      ]
    },
    {
      "cell_type": "code",
      "metadata": {
        "id": "bqs8H0ymvfiY",
        "colab_type": "code",
        "colab": {
          "base_uri": "https://localhost:8080/",
          "height": 136
        },
        "outputId": "ae5513d2-ad02-4c12-8f85-4ee76d4ad0b6"
      },
      "source": [
        "n=4;\n",
        "for i in range(n+1):\n",
        "    k=i+1\n",
        "    for j in range(n-i):\n",
        "        print (k, end=\"\")\n",
        "        k=k+1\n",
        "    if (i+1) != (n+1):\n",
        "        print('')\n",
        "for i in range(n-1):\n",
        "    k=n-i-1\n",
        "    for j in range(i+2):\n",
        "        print (k, end=\"\")\n",
        "        k=k+1\n",
        "    print('')"
      ],
      "execution_count": 6,
      "outputs": [
        {
          "output_type": "stream",
          "text": [
            "1234\n",
            "234\n",
            "34\n",
            "4\n",
            "34\n",
            "234\n",
            "1234\n"
          ],
          "name": "stdout"
        }
      ]
    },
    {
      "cell_type": "markdown",
      "metadata": {
        "id": "DEW-7K88vnNC",
        "colab_type": "text"
      },
      "source": [
        "#Find the length of a string without using len functions\n",
        "\n"
      ]
    },
    {
      "cell_type": "code",
      "metadata": {
        "id": "T9lMAHpZvvzR",
        "colab_type": "code",
        "colab": {
          "base_uri": "https://localhost:8080/",
          "height": 68
        },
        "outputId": "55e02e70-5683-45a8-c082-4af8dce4a135"
      },
      "source": [
        "string=input(\"Enter string:\")\n",
        "count=0\n",
        "for i in string:\n",
        "    count=count+1\n",
        "print(\"Length of string is:\")\n",
        "print(count)"
      ],
      "execution_count": 7,
      "outputs": [
        {
          "output_type": "stream",
          "text": [
            "Enter string:lavanya\n",
            "Length of string is:\n",
            "7\n"
          ],
          "name": "stdout"
        }
      ]
    },
    {
      "cell_type": "markdown",
      "metadata": {
        "id": "6nQTcHv-v66x",
        "colab_type": "text"
      },
      "source": [
        "#Find the no of words and characters in a string\n",
        "\n"
      ]
    },
    {
      "cell_type": "code",
      "metadata": {
        "id": "Fkx_FAoFv_Bu",
        "colab_type": "code",
        "colab": {
          "base_uri": "https://localhost:8080/",
          "height": 102
        },
        "outputId": "37c64ec1-51db-4dd0-e4f1-564f27d170de"
      },
      "source": [
        "string=input(\"Enter string:\")\n",
        "char=0\n",
        "word=0\n",
        "for i in string:\n",
        "      if(i==' '):\n",
        "            if(char!=0):\n",
        "                  word=word+1\n",
        "      char=char+1\n",
        "if(char!=0):            \n",
        "      word=word+1\n",
        "print(\"Number of words is:\")\n",
        "print(word)\n",
        "print(\"Number of characters is:\")\n",
        "print(char)"
      ],
      "execution_count": 8,
      "outputs": [
        {
          "output_type": "stream",
          "text": [
            "Enter string:lavanya\n",
            "Number of words is:\n",
            "1\n",
            "Number of characters is:\n",
            "7\n"
          ],
          "name": "stdout"
        }
      ]
    },
    {
      "cell_type": "markdown",
      "metadata": {
        "id": "j8Nn3J_JwJks",
        "colab_type": "text"
      },
      "source": [
        "#Find the no of occurrences of a word in a string\n",
        "\n",
        "\n"
      ]
    },
    {
      "cell_type": "code",
      "metadata": {
        "id": "YvIRCgeIwNDw",
        "colab_type": "code",
        "colab": {
          "base_uri": "https://localhost:8080/",
          "height": 68
        },
        "outputId": "44aed4a9-979e-4e6e-a393-60f9f2c0fe7a"
      },
      "source": [
        "string1 = input(\"Enter string:\")\n",
        "string2 = input(\"Enter word:\")\n",
        "word = string1.split()\n",
        "count = 0\n",
        "for i in word:\n",
        "   if i == string2:\n",
        "      count=count+1\n",
        "print(count)"
      ],
      "execution_count": 10,
      "outputs": [
        {
          "output_type": "stream",
          "text": [
            "Enter string:lavanya\n",
            "Enter word:a\n",
            "0\n"
          ],
          "name": "stdout"
        }
      ]
    }
  ]
}